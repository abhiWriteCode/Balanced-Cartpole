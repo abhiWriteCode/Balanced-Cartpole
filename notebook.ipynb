{
  "nbformat": 4,
  "nbformat_minor": 0,
  "metadata": {
    "colab": {
      "name": "notebook.ipynb",
      "version": "0.3.2",
      "provenance": [],
      "include_colab_link": true
    },
    "kernelspec": {
      "name": "python3",
      "display_name": "Python 3"
    },
    "accelerator": "GPU"
  },
  "cells": [
    {
      "cell_type": "markdown",
      "metadata": {
        "id": "view-in-github",
        "colab_type": "text"
      },
      "source": [
        "<a href=\"https://colab.research.google.com/github/abhiWriteCode/Balanced-Cartpole/blob/master/notebook.ipynb\" target=\"_parent\"><img src=\"https://colab.research.google.com/assets/colab-badge.svg\" alt=\"Open In Colab\"/></a>"
      ]
    },
    {
      "metadata": {
        "id": "Am6JDPh-zOl7",
        "colab_type": "text"
      },
      "cell_type": "markdown",
      "source": [
        "# Cartpole\n",
        "\n",
        "Balance a pole in an upright position by only moving your base left or right. Low-dimensional observation space."
      ]
    },
    {
      "metadata": {
        "id": "DxDvZPASzOel",
        "colab_type": "text"
      },
      "cell_type": "markdown",
      "source": [
        "\n",
        "![alt text](https://www.kdnuggets.com/images/reinforcement-learning-fig1-700.jpg)"
      ]
    },
    {
      "metadata": {
        "id": "oYKsog4ezsti",
        "colab_type": "code",
        "colab": {},
        "cellView": "form"
      },
      "cell_type": "code",
      "source": [
        "#@title Install dependencies\n",
        "!apt-get install -y xvfb python-opengl > /dev/null 2>&1\n",
        "!pip install gym pyvirtualdisplay scikit-video > /dev/null 2>&1"
      ],
      "execution_count": 0,
      "outputs": []
    },
    {
      "metadata": {
        "id": "xkwOksgfw9Qx",
        "colab_type": "code",
        "colab": {}
      },
      "cell_type": "code",
      "source": [
        "import tensorflow as tf\n",
        "tf.enable_eager_execution()\n",
        "\n",
        "import gym\n",
        "import numpy as np\n",
        "import matplotlib.pyplot as plt\n",
        "from IPython import display as ipythondisplay\n",
        "import time\n",
        "\n",
        "import utils"
      ],
      "execution_count": 0,
      "outputs": []
    },
    {
      "metadata": {
        "id": "uaGZzeWj0IDZ",
        "colab_type": "text"
      },
      "cell_type": "markdown",
      "source": [
        "### Define the environment"
      ]
    },
    {
      "metadata": {
        "id": "YNn2mpfg0B6o",
        "colab_type": "code",
        "colab": {
          "base_uri": "https://localhost:8080/",
          "height": 33
        },
        "outputId": "ee157148-b163-4820-8fe5-7cef19b6ad38"
      },
      "cell_type": "code",
      "source": [
        "env = gym.make(\"CartPole-v0\")\n",
        "env.seed(1) # reproducible, since RL has high variance"
      ],
      "execution_count": 3,
      "outputs": [
        {
          "output_type": "execute_result",
          "data": {
            "text/plain": [
              "[1]"
            ]
          },
          "metadata": {
            "tags": []
          },
          "execution_count": 3
        }
      ]
    },
    {
      "metadata": {
        "id": "wQg2vXwh0ckJ",
        "colab_type": "text"
      },
      "cell_type": "markdown",
      "source": [
        "\n",
        "**CartPole Environment: ** \n",
        "\n",
        "A pole is attached by an un-actuated joint to a cart, which moves along a frictionless track. The system is controlled by applying a force of +1 or -1 to the cart. The pendulum starts upright, and the goal is to prevent it from falling over. A reward of +1 is provided for every timestep that the pole remains upright. The episode ends when the pole is more than 15 degrees from vertical, or the cart moves more than 2.4 units from the center.\n",
        "\n",
        "<img width=\"400px\" src=\"https://danielpiedrahita.files.wordpress.com/2017/02/cart-pole.png\"></img>\n",
        "\n",
        "Observations:\n",
        "\n",
        "1. position of cart\n",
        "2. velocity of cart\n",
        "3. angle of pole\n",
        "4. rotation rate of pole\n",
        "\n",
        "The size of the space by querying the observation space:\n"
      ]
    },
    {
      "metadata": {
        "id": "NTIxB62s0SJf",
        "colab_type": "code",
        "colab": {
          "base_uri": "https://localhost:8080/",
          "height": 33
        },
        "outputId": "3a85469a-34c1-42e6-f8ab-68add130ffca"
      },
      "cell_type": "code",
      "source": [
        "print(\"Enviornment has observation space = {}\".format(env.observation_space))"
      ],
      "execution_count": 4,
      "outputs": [
        {
          "output_type": "stream",
          "text": [
            "Enviornment has observation space = Box(4,)\n"
          ],
          "name": "stdout"
        }
      ]
    },
    {
      "metadata": {
        "id": "XF0dP21s0x2Z",
        "colab_type": "text"
      },
      "cell_type": "markdown",
      "source": [
        "The size of the action space by querying the environment:"
      ]
    },
    {
      "metadata": {
        "id": "PenU7-IE0jqK",
        "colab_type": "code",
        "colab": {
          "base_uri": "https://localhost:8080/",
          "height": 33
        },
        "outputId": "73b13d8c-df46-481f-c936-df8afbfee3dd"
      },
      "cell_type": "code",
      "source": [
        "n_actions = env.action_space.n\n",
        "print(\"Number of possible actions that the agent can choose from = {}\".format(n_actions))"
      ],
      "execution_count": 5,
      "outputs": [
        {
          "output_type": "stream",
          "text": [
            "Number of possible actions that the agent can choose from = 2\n"
          ],
          "name": "stdout"
        }
      ]
    },
    {
      "metadata": {
        "id": "TD6Bdxh10_ux",
        "colab_type": "text"
      },
      "cell_type": "markdown",
      "source": [
        "### Define the Agent"
      ]
    },
    {
      "metadata": {
        "id": "5-h1_Nec03k7",
        "colab_type": "code",
        "colab": {}
      },
      "cell_type": "code",
      "source": [
        "def create_cartpole_model():\n",
        "    model = tf.keras.models.Sequential([\n",
        "        tf.keras.layers.Dense(units=32, activation='relu'),\n",
        "\n",
        "        # define the output dimension of the last Dense layer that the space the agent needs to act in\n",
        "        tf.keras.layers.Dense(units=n_actions, activation=None)\n",
        "    ])\n",
        "    return model\n",
        "\n",
        "cartpole_model = create_cartpole_model()"
      ],
      "execution_count": 0,
      "outputs": []
    },
    {
      "metadata": {
        "id": "qMlxbjmM1ih0",
        "colab_type": "text"
      },
      "cell_type": "markdown",
      "source": [
        "Define the action function that executes a forward pass through the network and samples from the output. Take special note of the output activation of the model."
      ]
    },
    {
      "metadata": {
        "id": "ivj3NCWJ1c_i",
        "colab_type": "code",
        "colab": {}
      },
      "cell_type": "code",
      "source": [
        "def choose_action(model, observation):\n",
        "    \n",
        "    observation = observation.reshape([1, -1])\n",
        "    # feed the observations through the model to predict the log probabilities of each possible action.\n",
        "    logits = model.predict(observation) # TODO\n",
        "\n",
        "    # pass the log probabilities through a softmax to compute true probabilities\n",
        "    prob_weights = tf.nn.softmax(logits).numpy()\n",
        "\n",
        "    # randomly sample from the prob_weights to pick an action.\n",
        "    # carefully consider the dimensionality of the input probabilities (vector) and the output action (scalar)\n",
        "    action = np.random.choice(n_actions, size=1, p=prob_weights.flatten())[0]\n",
        "\n",
        "    return action"
      ],
      "execution_count": 0,
      "outputs": []
    },
    {
      "metadata": {
        "id": "7Cn6tT601_Dy",
        "colab_type": "text"
      },
      "cell_type": "markdown",
      "source": [
        "### 1.3 Create the agent's memory\n",
        "\n",
        "During training, the agent will need to remember all of its observations, actions so that once the episode ends, it can \"reinforce\" the good actions and punish the undesirable actions. Let's do this by defining a simple memory buffer that contains the agent's observations, actions, and received rewards from a given episode. "
      ]
    },
    {
      "metadata": {
        "id": "K8BeG3Al15F9",
        "colab_type": "code",
        "colab": {}
      },
      "cell_type": "code",
      "source": [
        "class Memory:\n",
        "    def __init__(self): \n",
        "        self.clear()\n",
        "\n",
        "    def clear(self): \n",
        "        self.observations = []\n",
        "        self.actions = []\n",
        "        self.rewards = []\n",
        "\n",
        "    def add_to_memory(self, new_observation, new_action, new_reward): \n",
        "        self.observations.append(new_observation)\n",
        "\n",
        "        # update the list of actions with new action\n",
        "        self.actions.append(new_action) \n",
        "\n",
        "        # update the list of rewards with new reward\n",
        "        self.rewards.append(new_reward) \n",
        "        \n",
        "memory = Memory()"
      ],
      "execution_count": 0,
      "outputs": []
    },
    {
      "metadata": {
        "id": "jBhd9gC52ZLM",
        "colab_type": "text"
      },
      "cell_type": "markdown",
      "source": [
        "Almost ready to begin the learning algorithm for our agent! The final step is to compute the discounted rewards of our agent. Recall from lecture, we use reward discount to give more preference at getting rewards now rather than later in the future. The idea of discounting rewards is similar to discounting money in the case of interest and can be defined as: \n",
        "\n",
        ">$R_{t}=\\sum_{k=0}^\\infty\\gamma^kr_{t+k}$\n",
        "\n",
        "where  $\\gamma$ is the discount factor. In other words, at the end of an episode, we'll want to depreciate any rewards received at later time steps. Since we can't play an infinite number of games, we'll be limited to the number of timesteps in an episode. When implementing the function, you can initialize a numpy array of zeros (with length of the number of time steps) and fill it with the real discounted reward values as you loop through the saved rewards from the episode. We'll also want to normalize our output, which you can do using information about the mean and standard deviation of the discounted rewards.\n"
      ]
    },
    {
      "metadata": {
        "id": "IM8m8DAw2TGV",
        "colab_type": "code",
        "colab": {}
      },
      "cell_type": "code",
      "source": [
        "def normalize(x):\n",
        "    x = (x - np.mean(x)) / np.std(x)\n",
        "    return x\n",
        "\n",
        "\n",
        "def discount_rewards(rewards, gamma=0.95): \n",
        "    discounted_rewards = np.zeros_like(rewards)\n",
        "    R = 0\n",
        "    \n",
        "    for t in reversed(range(0, len(rewards))):\n",
        "        # update the total discounted reward\n",
        "        R = R * gamma + rewards[t]\n",
        "        discounted_rewards[t] = R\n",
        "\n",
        "    return normalize(discounted_rewards)"
      ],
      "execution_count": 0,
      "outputs": []
    },
    {
      "metadata": {
        "id": "isgemVuv2tzP",
        "colab_type": "text"
      },
      "cell_type": "markdown",
      "source": [
        "### Define the learning algorithm"
      ]
    },
    {
      "metadata": {
        "id": "gHJfBgta2qZJ",
        "colab_type": "code",
        "colab": {}
      },
      "cell_type": "code",
      "source": [
        "learning_rate = 1e-3\n",
        "optimizer = tf.train.AdamOptimizer(learning_rate)"
      ],
      "execution_count": 0,
      "outputs": []
    },
    {
      "metadata": {
        "id": "XhzdQv3a23KY",
        "colab_type": "text"
      },
      "cell_type": "markdown",
      "source": [
        "And now let's define the loss function. In this lab we are focusing on policy gradient methods which aim to **maximize** the likelihood of actions that result in large rewards. Equivalently, this means that we want to **minimize** the negative likelihood of these same actions. Like in supervised learning, we can use stochastic gradient descent methods to achieve this minimization. \n",
        "\n",
        "Since the log function is monotonically increasing, this means that minimizing negative **likelihood** is equivalent to minimizing negative **log-likelihood**.  Recall that we can easily compute the negative log-likelihood of an discrete action by evaluting its [softmax cross entropy](https://www.tensorflow.org/api_docs/python/tf/nn/sparse_softmax_cross_entropy_with_logits) "
      ]
    },
    {
      "metadata": {
        "id": "ZKSNAF9g230H",
        "colab_type": "code",
        "colab": {}
      },
      "cell_type": "code",
      "source": [
        "def compute_loss(logits, actions, rewards): \n",
        "    \n",
        "    # complete the call to compute the loss\n",
        "    neg_logprob = tf.nn.sparse_softmax_cross_entropy_with_logits(logits=logits, labels=actions) \n",
        "\n",
        "    # scale the negative log probability by the rewards\n",
        "    loss = tf.reduce_mean( neg_logprob * rewards ) \n",
        "    return loss"
      ],
      "execution_count": 0,
      "outputs": []
    },
    {
      "metadata": {
        "id": "39GjwP5u3T7Y",
        "colab_type": "code",
        "colab": {}
      },
      "cell_type": "code",
      "source": [
        "def train_step(model, optimizer, observations, actions, discounted_rewards):\n",
        "    with tf.GradientTape() as tape:\n",
        "\n",
        "        # Forward propogate through the agent\n",
        "        observations = tf.convert_to_tensor(observations, dtype=tf.float32)\n",
        "        logits = model(observations)\n",
        "\n",
        "        # call the compute_loss function to compute the loss\n",
        "        loss = compute_loss(logits, actions, discounted_rewards) \n",
        "\n",
        "    # run backpropagation using the tape.gradient method\n",
        "    grads = tape.gradient(loss, model.variables) \n",
        "    optimizer.apply_gradients(zip(grads, model.variables), global_step=tf.train.get_or_create_global_step())"
      ],
      "execution_count": 0,
      "outputs": []
    },
    {
      "metadata": {
        "id": "noGtFs4Z3rHy",
        "colab_type": "text"
      },
      "cell_type": "markdown",
      "source": [
        "## Let the agent go and watch it learn from scratch!"
      ]
    },
    {
      "metadata": {
        "id": "RhYHhycy3l9-",
        "colab_type": "code",
        "colab": {
          "base_uri": "https://localhost:8080/",
          "height": 710
        },
        "outputId": "7172be9f-e553-4a13-dbb1-2f83577d1804"
      },
      "cell_type": "code",
      "source": [
        "cartpole_model = create_cartpole_model()\n",
        "\n",
        "smoothed_reward = utils.LossHistory(smoothing_factor=0.9)\n",
        "plotter = utils.PeriodicPlotter(sec=5, xlabel='Iterations', ylabel='Rewards')\n",
        "\n",
        "\n",
        "for i_episode in range(1000):\n",
        "\n",
        "    plotter.plot(smoothed_reward.get())\n",
        "\n",
        "    # Restart the environment\n",
        "    observation = env.reset()\n",
        "\n",
        "    while True:\n",
        "        # using our observation, take an action\n",
        "        action = choose_action(cartpole_model, observation)\n",
        "        next_observation, reward, done, info = env.step(action)\n",
        "        # add to memory\n",
        "        memory.add_to_memory(observation, action, reward)\n",
        "\n",
        "        # is the episode over? did you crash or do so well that you're done?\n",
        "        if done:\n",
        "            # determine total reward and keep a record of this\n",
        "            total_reward = sum(memory.rewards)\n",
        "            smoothed_reward.append( total_reward )\n",
        "\n",
        "            # initiate training - remember we don't know anything about how the agent is doing until it's crashed!\n",
        "            train_step(cartpole_model, optimizer, \n",
        "                       observations = np.vstack(memory.observations),\n",
        "                       actions = np.array(memory.actions),\n",
        "                       discounted_rewards = discount_rewards(memory.rewards)\n",
        "                      )\n",
        "\n",
        "            memory.clear()\n",
        "            break\n",
        "        # update our observatons\n",
        "        observation = next_observation"
      ],
      "execution_count": 13,
      "outputs": [
        {
          "output_type": "display_data",
          "data": {
            "image/png": "[encoded data removed]",
            "text/plain": [
              "<Figure size 576x396 with 1 Axes>"
            ]
          },
          "metadata": {
            "tags": []
          }
        },
        {
          "output_type": "display_data",
          "data": {
            "image/png": "[encoded data removed]",
            "text/plain": [
              "<Figure size 576x396 with 1 Axes>"
            ]
          },
          "metadata": {
            "tags": []
          }
        }
      ]
    },
    {
      "metadata": {
        "id": "U8QR9EmZ5roG",
        "colab_type": "text"
      },
      "cell_type": "markdown",
      "source": [
        "### Save a video of the trained model while it is balancing the pole"
      ]
    },
    {
      "metadata": {
        "id": "zzf7WJZy4PHC",
        "colab_type": "code",
        "colab": {
          "base_uri": "https://localhost:8080/",
          "height": 33
        },
        "outputId": "24e7840a-ae2f-4be1-f46b-16129d3de923"
      },
      "cell_type": "code",
      "source": [
        "def save_video_of_model(model, env_name, filename='agent.mp4'):  \n",
        "    import skvideo.io\n",
        "    from pyvirtualdisplay import Display\n",
        "    display = Display(visible=0, size=(40, 30))\n",
        "    display.start()\n",
        "\n",
        "    env = gym.make(env_name)\n",
        "    obs = env.reset()\n",
        "    shape = env.render(mode='rgb_array').shape[0:2]\n",
        "\n",
        "    out = skvideo.io.FFmpegWriter(filename)\n",
        "\n",
        "    done = False\n",
        "    while not done: \n",
        "        frame = env.render(mode='rgb_array')\n",
        "        out.writeFrame(frame)\n",
        "\n",
        "        action = model(tf.convert_to_tensor(obs.reshape((1,-1)), tf.float32)).numpy().argmax()\n",
        "        obs, reward, done, info = env.step(action)\n",
        "    out.close()\n",
        "    print(\"Successfully saved into {}!\".format(filename))\n",
        "\n",
        "save_video_of_model(cartpole_model, \"CartPole-v0\")"
      ],
      "execution_count": 14,
      "outputs": [
        {
          "output_type": "stream",
          "text": [
            "Successfully saved into agent.mp4!\n"
          ],
          "name": "stdout"
        }
      ]
    },
    {
      "metadata": {
        "id": "72HF6HPk6J_O",
        "colab_type": "text"
      },
      "cell_type": "markdown",
      "source": [
        "### Display the saved video"
      ]
    },
    {
      "metadata": {
        "id": "IqYuT26_6DBW",
        "colab_type": "code",
        "colab": {}
      },
      "cell_type": "code",
      "source": [
        "from IPython.display import HTML\n",
        "import io, base64\n",
        "video = io.open('./agent.mp4', 'r+b').read()\n",
        "encoded = base64.b64encode(video)\n",
        "HTML(data='''\n",
        "<video controls>\n",
        "    <source src=\"data:video/mp4;base64,{0}\" type=\"video/mp4\" />\n",
        "</video>'''.format(encoded.decode('ascii')))"
      ],
      "execution_count": 0,
      "outputs": []
    },
    {
      "metadata": {
        "id": "tzxHv25D6bIL",
        "colab_type": "code",
        "colab": {}
      },
      "cell_type": "code",
      "source": [
        ""
      ],
      "execution_count": 0,
      "outputs": []
    }
  ]
}